{
 "cells": [
  {
   "cell_type": "code",
   "execution_count": 4,
   "id": "580d5662",
   "metadata": {},
   "outputs": [
    {
     "name": "stderr",
     "output_type": "stream",
     "text": [
      "M:\\Web Development\\Anaconda\\lib\\site-packages\\scipy\\__init__.py:155: UserWarning: A NumPy version >=1.18.5 and <1.25.0 is required for this version of SciPy (detected version 1.26.4\n",
      "  warnings.warn(f\"A NumPy version >={np_minversion} and <{np_maxversion}\"\n"
     ]
    }
   ],
   "source": [
    "import pandas as pd\n",
    "import numpy as np\n",
    "import matplotlib.pyplot as plt\n",
    "import seaborn as sns"
   ]
  },
  {
   "cell_type": "code",
   "execution_count": 5,
   "id": "2c91534c",
   "metadata": {},
   "outputs": [
    {
     "data": {
      "text/html": [
       "<div>\n",
       "<style scoped>\n",
       "    .dataframe tbody tr th:only-of-type {\n",
       "        vertical-align: middle;\n",
       "    }\n",
       "\n",
       "    .dataframe tbody tr th {\n",
       "        vertical-align: top;\n",
       "    }\n",
       "\n",
       "    .dataframe thead th {\n",
       "        text-align: right;\n",
       "    }\n",
       "</style>\n",
       "<table border=\"1\" class=\"dataframe\">\n",
       "  <thead>\n",
       "    <tr style=\"text-align: right;\">\n",
       "      <th></th>\n",
       "      <th>Data</th>\n",
       "      <th>Countries</th>\n",
       "      <th>Local</th>\n",
       "      <th>Industry Sector</th>\n",
       "      <th>Accident Level</th>\n",
       "      <th>Potential Accident Level</th>\n",
       "      <th>Genre</th>\n",
       "      <th>Employee ou Terceiro</th>\n",
       "      <th>Risco Critico</th>\n",
       "    </tr>\n",
       "  </thead>\n",
       "  <tbody>\n",
       "    <tr>\n",
       "      <th>0</th>\n",
       "      <td>2016-01-01 00:00:00</td>\n",
       "      <td>Country_01</td>\n",
       "      <td>Local_01</td>\n",
       "      <td>Mining</td>\n",
       "      <td>I</td>\n",
       "      <td>IV</td>\n",
       "      <td>Male</td>\n",
       "      <td>Third Party</td>\n",
       "      <td>Pressed</td>\n",
       "    </tr>\n",
       "    <tr>\n",
       "      <th>1</th>\n",
       "      <td>2016-01-02 00:00:00</td>\n",
       "      <td>Country_02</td>\n",
       "      <td>Local_02</td>\n",
       "      <td>Mining</td>\n",
       "      <td>I</td>\n",
       "      <td>IV</td>\n",
       "      <td>Male</td>\n",
       "      <td>Employee</td>\n",
       "      <td>Pressurized Systems</td>\n",
       "    </tr>\n",
       "    <tr>\n",
       "      <th>2</th>\n",
       "      <td>2016-01-06 00:00:00</td>\n",
       "      <td>Country_01</td>\n",
       "      <td>Local_03</td>\n",
       "      <td>Mining</td>\n",
       "      <td>I</td>\n",
       "      <td>III</td>\n",
       "      <td>Male</td>\n",
       "      <td>Third Party (Remote)</td>\n",
       "      <td>Manual Tools</td>\n",
       "    </tr>\n",
       "    <tr>\n",
       "      <th>3</th>\n",
       "      <td>2016-01-08 00:00:00</td>\n",
       "      <td>Country_01</td>\n",
       "      <td>Local_04</td>\n",
       "      <td>Mining</td>\n",
       "      <td>I</td>\n",
       "      <td>I</td>\n",
       "      <td>Male</td>\n",
       "      <td>Third Party</td>\n",
       "      <td>Others</td>\n",
       "    </tr>\n",
       "    <tr>\n",
       "      <th>4</th>\n",
       "      <td>2016-01-10 00:00:00</td>\n",
       "      <td>Country_01</td>\n",
       "      <td>Local_04</td>\n",
       "      <td>Mining</td>\n",
       "      <td>IV</td>\n",
       "      <td>IV</td>\n",
       "      <td>Male</td>\n",
       "      <td>Third Party</td>\n",
       "      <td>Others</td>\n",
       "    </tr>\n",
       "  </tbody>\n",
       "</table>\n",
       "</div>"
      ],
      "text/plain": [
       "                  Data   Countries     Local Industry Sector Accident Level  \\\n",
       "0  2016-01-01 00:00:00  Country_01  Local_01          Mining              I   \n",
       "1  2016-01-02 00:00:00  Country_02  Local_02          Mining              I   \n",
       "2  2016-01-06 00:00:00  Country_01  Local_03          Mining              I   \n",
       "3  2016-01-08 00:00:00  Country_01  Local_04          Mining              I   \n",
       "4  2016-01-10 00:00:00  Country_01  Local_04          Mining             IV   \n",
       "\n",
       "  Potential Accident Level Genre  Employee ou Terceiro        Risco Critico  \n",
       "0                       IV  Male           Third Party              Pressed  \n",
       "1                       IV  Male              Employee  Pressurized Systems  \n",
       "2                      III  Male  Third Party (Remote)         Manual Tools  \n",
       "3                        I  Male           Third Party               Others  \n",
       "4                       IV  Male           Third Party               Others  "
      ]
     },
     "execution_count": 5,
     "metadata": {},
     "output_type": "execute_result"
    }
   ],
   "source": [
    "df=pd.read_csv('IHMStefanini_industrial_safety_and_health_database.csv')\n",
    "df.head()"
   ]
  },
  {
   "cell_type": "code",
   "execution_count": 6,
   "id": "087d44ff",
   "metadata": {},
   "outputs": [
    {
     "data": {
      "text/plain": [
       "(439, 9)"
      ]
     },
     "execution_count": 6,
     "metadata": {},
     "output_type": "execute_result"
    }
   ],
   "source": [
    "df.shape"
   ]
  },
  {
   "cell_type": "code",
   "execution_count": 14,
   "id": "f3c83f33",
   "metadata": {},
   "outputs": [
    {
     "data": {
      "text/html": [
       "<div>\n",
       "<style scoped>\n",
       "    .dataframe tbody tr th:only-of-type {\n",
       "        vertical-align: middle;\n",
       "    }\n",
       "\n",
       "    .dataframe tbody tr th {\n",
       "        vertical-align: top;\n",
       "    }\n",
       "\n",
       "    .dataframe thead th {\n",
       "        text-align: right;\n",
       "    }\n",
       "</style>\n",
       "<table border=\"1\" class=\"dataframe\">\n",
       "  <thead>\n",
       "    <tr style=\"text-align: right;\">\n",
       "      <th></th>\n",
       "      <th>Unnamed: 0</th>\n",
       "      <th>Data</th>\n",
       "      <th>Countries</th>\n",
       "      <th>Local</th>\n",
       "      <th>Industry Sector</th>\n",
       "      <th>Accident Level</th>\n",
       "      <th>Potential Accident Level</th>\n",
       "      <th>Genre</th>\n",
       "      <th>Employee or Third Party</th>\n",
       "      <th>Critical Risk</th>\n",
       "      <th>Description</th>\n",
       "    </tr>\n",
       "  </thead>\n",
       "  <tbody>\n",
       "    <tr>\n",
       "      <th>0</th>\n",
       "      <td>0</td>\n",
       "      <td>2016-01-01 00:00:00</td>\n",
       "      <td>Country_01</td>\n",
       "      <td>Local_01</td>\n",
       "      <td>Mining</td>\n",
       "      <td>I</td>\n",
       "      <td>IV</td>\n",
       "      <td>Male</td>\n",
       "      <td>Third Party</td>\n",
       "      <td>Pressed</td>\n",
       "      <td>While removing the drill rod of the Jumbo 08 f...</td>\n",
       "    </tr>\n",
       "    <tr>\n",
       "      <th>1</th>\n",
       "      <td>1</td>\n",
       "      <td>2016-01-02 00:00:00</td>\n",
       "      <td>Country_02</td>\n",
       "      <td>Local_02</td>\n",
       "      <td>Mining</td>\n",
       "      <td>I</td>\n",
       "      <td>IV</td>\n",
       "      <td>Male</td>\n",
       "      <td>Employee</td>\n",
       "      <td>Pressurized Systems</td>\n",
       "      <td>During the activation of a sodium sulphide pum...</td>\n",
       "    </tr>\n",
       "    <tr>\n",
       "      <th>2</th>\n",
       "      <td>2</td>\n",
       "      <td>2016-01-06 00:00:00</td>\n",
       "      <td>Country_01</td>\n",
       "      <td>Local_03</td>\n",
       "      <td>Mining</td>\n",
       "      <td>I</td>\n",
       "      <td>III</td>\n",
       "      <td>Male</td>\n",
       "      <td>Third Party (Remote)</td>\n",
       "      <td>Manual Tools</td>\n",
       "      <td>In the sub-station MILPO located at level +170...</td>\n",
       "    </tr>\n",
       "    <tr>\n",
       "      <th>3</th>\n",
       "      <td>3</td>\n",
       "      <td>2016-01-08 00:00:00</td>\n",
       "      <td>Country_01</td>\n",
       "      <td>Local_04</td>\n",
       "      <td>Mining</td>\n",
       "      <td>I</td>\n",
       "      <td>I</td>\n",
       "      <td>Male</td>\n",
       "      <td>Third Party</td>\n",
       "      <td>Others</td>\n",
       "      <td>Being 9:45 am. approximately in the Nv. 1880 C...</td>\n",
       "    </tr>\n",
       "    <tr>\n",
       "      <th>4</th>\n",
       "      <td>4</td>\n",
       "      <td>2016-01-10 00:00:00</td>\n",
       "      <td>Country_01</td>\n",
       "      <td>Local_04</td>\n",
       "      <td>Mining</td>\n",
       "      <td>IV</td>\n",
       "      <td>IV</td>\n",
       "      <td>Male</td>\n",
       "      <td>Third Party</td>\n",
       "      <td>Others</td>\n",
       "      <td>Approximately at 11:45 a.m. in circumstances t...</td>\n",
       "    </tr>\n",
       "    <tr>\n",
       "      <th>...</th>\n",
       "      <td>...</td>\n",
       "      <td>...</td>\n",
       "      <td>...</td>\n",
       "      <td>...</td>\n",
       "      <td>...</td>\n",
       "      <td>...</td>\n",
       "      <td>...</td>\n",
       "      <td>...</td>\n",
       "      <td>...</td>\n",
       "      <td>...</td>\n",
       "      <td>...</td>\n",
       "    </tr>\n",
       "    <tr>\n",
       "      <th>420</th>\n",
       "      <td>434</td>\n",
       "      <td>2017-07-04 00:00:00</td>\n",
       "      <td>Country_01</td>\n",
       "      <td>Local_04</td>\n",
       "      <td>Mining</td>\n",
       "      <td>I</td>\n",
       "      <td>III</td>\n",
       "      <td>Male</td>\n",
       "      <td>Third Party</td>\n",
       "      <td>Others</td>\n",
       "      <td>Being approximately 5:00 a.m. approximately, w...</td>\n",
       "    </tr>\n",
       "    <tr>\n",
       "      <th>421</th>\n",
       "      <td>435</td>\n",
       "      <td>2017-07-04 00:00:00</td>\n",
       "      <td>Country_01</td>\n",
       "      <td>Local_03</td>\n",
       "      <td>Mining</td>\n",
       "      <td>I</td>\n",
       "      <td>II</td>\n",
       "      <td>Female</td>\n",
       "      <td>Employee</td>\n",
       "      <td>Others</td>\n",
       "      <td>The collaborator moved from the infrastructure...</td>\n",
       "    </tr>\n",
       "    <tr>\n",
       "      <th>422</th>\n",
       "      <td>436</td>\n",
       "      <td>2017-07-05 00:00:00</td>\n",
       "      <td>Country_02</td>\n",
       "      <td>Local_09</td>\n",
       "      <td>Metals</td>\n",
       "      <td>I</td>\n",
       "      <td>II</td>\n",
       "      <td>Male</td>\n",
       "      <td>Employee</td>\n",
       "      <td>Venomous Animals</td>\n",
       "      <td>During the environmental monitoring activity i...</td>\n",
       "    </tr>\n",
       "    <tr>\n",
       "      <th>423</th>\n",
       "      <td>437</td>\n",
       "      <td>2017-07-06 00:00:00</td>\n",
       "      <td>Country_02</td>\n",
       "      <td>Local_05</td>\n",
       "      <td>Metals</td>\n",
       "      <td>I</td>\n",
       "      <td>II</td>\n",
       "      <td>Male</td>\n",
       "      <td>Employee</td>\n",
       "      <td>Cut</td>\n",
       "      <td>The Employee performed the activity of strippi...</td>\n",
       "    </tr>\n",
       "    <tr>\n",
       "      <th>424</th>\n",
       "      <td>438</td>\n",
       "      <td>2017-07-09 00:00:00</td>\n",
       "      <td>Country_01</td>\n",
       "      <td>Local_04</td>\n",
       "      <td>Mining</td>\n",
       "      <td>I</td>\n",
       "      <td>II</td>\n",
       "      <td>Female</td>\n",
       "      <td>Third Party</td>\n",
       "      <td>Fall prevention (same level)</td>\n",
       "      <td>At 10:00 a.m., when the assistant cleaned the ...</td>\n",
       "    </tr>\n",
       "  </tbody>\n",
       "</table>\n",
       "<p>425 rows × 11 columns</p>\n",
       "</div>"
      ],
      "text/plain": [
       "     Unnamed: 0                 Data   Countries     Local Industry Sector  \\\n",
       "0             0  2016-01-01 00:00:00  Country_01  Local_01          Mining   \n",
       "1             1  2016-01-02 00:00:00  Country_02  Local_02          Mining   \n",
       "2             2  2016-01-06 00:00:00  Country_01  Local_03          Mining   \n",
       "3             3  2016-01-08 00:00:00  Country_01  Local_04          Mining   \n",
       "4             4  2016-01-10 00:00:00  Country_01  Local_04          Mining   \n",
       "..          ...                  ...         ...       ...             ...   \n",
       "420         434  2017-07-04 00:00:00  Country_01  Local_04          Mining   \n",
       "421         435  2017-07-04 00:00:00  Country_01  Local_03          Mining   \n",
       "422         436  2017-07-05 00:00:00  Country_02  Local_09          Metals   \n",
       "423         437  2017-07-06 00:00:00  Country_02  Local_05          Metals   \n",
       "424         438  2017-07-09 00:00:00  Country_01  Local_04          Mining   \n",
       "\n",
       "    Accident Level Potential Accident Level   Genre Employee or Third Party  \\\n",
       "0                I                       IV    Male             Third Party   \n",
       "1                I                       IV    Male                Employee   \n",
       "2                I                      III    Male    Third Party (Remote)   \n",
       "3                I                        I    Male             Third Party   \n",
       "4               IV                       IV    Male             Third Party   \n",
       "..             ...                      ...     ...                     ...   \n",
       "420              I                      III    Male             Third Party   \n",
       "421              I                       II  Female                Employee   \n",
       "422              I                       II    Male                Employee   \n",
       "423              I                       II    Male                Employee   \n",
       "424              I                       II  Female             Third Party   \n",
       "\n",
       "                    Critical Risk  \\\n",
       "0                         Pressed   \n",
       "1             Pressurized Systems   \n",
       "2                    Manual Tools   \n",
       "3                          Others   \n",
       "4                          Others   \n",
       "..                            ...   \n",
       "420                        Others   \n",
       "421                        Others   \n",
       "422              Venomous Animals   \n",
       "423                           Cut   \n",
       "424  Fall prevention (same level)   \n",
       "\n",
       "                                           Description  \n",
       "0    While removing the drill rod of the Jumbo 08 f...  \n",
       "1    During the activation of a sodium sulphide pum...  \n",
       "2    In the sub-station MILPO located at level +170...  \n",
       "3    Being 9:45 am. approximately in the Nv. 1880 C...  \n",
       "4    Approximately at 11:45 a.m. in circumstances t...  \n",
       "..                                                 ...  \n",
       "420  Being approximately 5:00 a.m. approximately, w...  \n",
       "421  The collaborator moved from the infrastructure...  \n",
       "422  During the environmental monitoring activity i...  \n",
       "423  The Employee performed the activity of strippi...  \n",
       "424  At 10:00 a.m., when the assistant cleaned the ...  \n",
       "\n",
       "[425 rows x 11 columns]"
      ]
     },
     "execution_count": 14,
     "metadata": {},
     "output_type": "execute_result"
    }
   ],
   "source": [
    "df1=pd.read_csv('IHMStefanini_industrial_safety_and_health_database_with_accidents_description.csv')\n",
    "df1\n"
   ]
  },
  {
   "cell_type": "code",
   "execution_count": 15,
   "id": "8e5e85d8",
   "metadata": {},
   "outputs": [
    {
     "data": {
      "text/plain": [
       "(425, 11)"
      ]
     },
     "execution_count": 15,
     "metadata": {},
     "output_type": "execute_result"
    }
   ],
   "source": [
    "df1.shape"
   ]
  },
  {
   "cell_type": "code",
   "execution_count": 16,
   "id": "665975e2",
   "metadata": {},
   "outputs": [
    {
     "data": {
      "text/plain": [
       "Index(['Data', 'Countries', 'Local', 'Industry Sector', 'Accident Level',\n",
       "       'Potential Accident Level', 'Genre', 'Employee ou Terceiro',\n",
       "       'Risco Critico'],\n",
       "      dtype='object')"
      ]
     },
     "execution_count": 16,
     "metadata": {},
     "output_type": "execute_result"
    }
   ],
   "source": [
    " df.columns\n"
   ]
  },
  {
   "cell_type": "code",
   "execution_count": 17,
   "id": "ad15b16a",
   "metadata": {},
   "outputs": [
    {
     "data": {
      "text/plain": [
       "Index(['Unnamed: 0', 'Data', 'Countries', 'Local', 'Industry Sector',\n",
       "       'Accident Level', 'Potential Accident Level', 'Genre',\n",
       "       'Employee or Third Party', 'Critical Risk', 'Description'],\n",
       "      dtype='object')"
      ]
     },
     "execution_count": 17,
     "metadata": {},
     "output_type": "execute_result"
    }
   ],
   "source": [
    " df1.columns\n"
   ]
  },
  {
   "cell_type": "code",
   "execution_count": 19,
   "id": "68d30945",
   "metadata": {},
   "outputs": [],
   "source": [
    "df1.drop(columns='Description',inplace=True,axis=1)\n",
    "df1.drop(columns='Unnamed: 0',inplace=True,axis=1)"
   ]
  },
  {
   "cell_type": "code",
   "execution_count": 20,
   "id": "8c80392f",
   "metadata": {},
   "outputs": [
    {
     "data": {
      "text/plain": [
       "Index(['Data', 'Countries', 'Local', 'Industry Sector', 'Accident Level',\n",
       "       'Potential Accident Level', 'Genre', 'Employee or Third Party',\n",
       "       'Critical Risk'],\n",
       "      dtype='object')"
      ]
     },
     "execution_count": 20,
     "metadata": {},
     "output_type": "execute_result"
    }
   ],
   "source": [
    "df1.columns"
   ]
  },
  {
   "cell_type": "code",
   "execution_count": 22,
   "id": "976c12fe",
   "metadata": {},
   "outputs": [],
   "source": [
    "df=df.rename(columns={'Risco Critico':'Critical Risk','Employee ou Terceiro':'Employee or Third Party'})"
   ]
  },
  {
   "cell_type": "code",
   "execution_count": 23,
   "id": "b5815e48",
   "metadata": {},
   "outputs": [
    {
     "data": {
      "text/plain": [
       "Index(['Data', 'Countries', 'Local', 'Industry Sector', 'Accident Level',\n",
       "       'Potential Accident Level', 'Genre', 'Employee or Third Party',\n",
       "       'Critical Risk'],\n",
       "      dtype='object')"
      ]
     },
     "execution_count": 23,
     "metadata": {},
     "output_type": "execute_result"
    }
   ],
   "source": [
    "df.columns"
   ]
  },
  {
   "cell_type": "code",
   "execution_count": 24,
   "id": "99512ea0",
   "metadata": {},
   "outputs": [
    {
     "data": {
      "text/plain": [
       "Index(['Data', 'Countries', 'Local', 'Industry Sector', 'Accident Level',\n",
       "       'Potential Accident Level', 'Genre', 'Employee or Third Party',\n",
       "       'Critical Risk'],\n",
       "      dtype='object')"
      ]
     },
     "execution_count": 24,
     "metadata": {},
     "output_type": "execute_result"
    }
   ],
   "source": [
    "df1.columns"
   ]
  },
  {
   "cell_type": "code",
   "execution_count": 25,
   "id": "5e1a14f7",
   "metadata": {},
   "outputs": [
    {
     "data": {
      "text/html": [
       "<div>\n",
       "<style scoped>\n",
       "    .dataframe tbody tr th:only-of-type {\n",
       "        vertical-align: middle;\n",
       "    }\n",
       "\n",
       "    .dataframe tbody tr th {\n",
       "        vertical-align: top;\n",
       "    }\n",
       "\n",
       "    .dataframe thead th {\n",
       "        text-align: right;\n",
       "    }\n",
       "</style>\n",
       "<table border=\"1\" class=\"dataframe\">\n",
       "  <thead>\n",
       "    <tr style=\"text-align: right;\">\n",
       "      <th></th>\n",
       "      <th>Data</th>\n",
       "      <th>Countries</th>\n",
       "      <th>Local</th>\n",
       "      <th>Industry Sector</th>\n",
       "      <th>Accident Level</th>\n",
       "      <th>Potential Accident Level</th>\n",
       "      <th>Genre</th>\n",
       "      <th>Employee or Third Party</th>\n",
       "      <th>Critical Risk</th>\n",
       "    </tr>\n",
       "  </thead>\n",
       "  <tbody>\n",
       "    <tr>\n",
       "      <th>0</th>\n",
       "      <td>2016-01-01 00:00:00</td>\n",
       "      <td>Country_01</td>\n",
       "      <td>Local_01</td>\n",
       "      <td>Mining</td>\n",
       "      <td>I</td>\n",
       "      <td>IV</td>\n",
       "      <td>Male</td>\n",
       "      <td>Third Party</td>\n",
       "      <td>Pressed</td>\n",
       "    </tr>\n",
       "    <tr>\n",
       "      <th>1</th>\n",
       "      <td>2016-01-02 00:00:00</td>\n",
       "      <td>Country_02</td>\n",
       "      <td>Local_02</td>\n",
       "      <td>Mining</td>\n",
       "      <td>I</td>\n",
       "      <td>IV</td>\n",
       "      <td>Male</td>\n",
       "      <td>Employee</td>\n",
       "      <td>Pressurized Systems</td>\n",
       "    </tr>\n",
       "    <tr>\n",
       "      <th>2</th>\n",
       "      <td>2016-01-06 00:00:00</td>\n",
       "      <td>Country_01</td>\n",
       "      <td>Local_03</td>\n",
       "      <td>Mining</td>\n",
       "      <td>I</td>\n",
       "      <td>III</td>\n",
       "      <td>Male</td>\n",
       "      <td>Third Party (Remote)</td>\n",
       "      <td>Manual Tools</td>\n",
       "    </tr>\n",
       "    <tr>\n",
       "      <th>3</th>\n",
       "      <td>2016-01-08 00:00:00</td>\n",
       "      <td>Country_01</td>\n",
       "      <td>Local_04</td>\n",
       "      <td>Mining</td>\n",
       "      <td>I</td>\n",
       "      <td>I</td>\n",
       "      <td>Male</td>\n",
       "      <td>Third Party</td>\n",
       "      <td>Others</td>\n",
       "    </tr>\n",
       "    <tr>\n",
       "      <th>4</th>\n",
       "      <td>2016-01-10 00:00:00</td>\n",
       "      <td>Country_01</td>\n",
       "      <td>Local_04</td>\n",
       "      <td>Mining</td>\n",
       "      <td>IV</td>\n",
       "      <td>IV</td>\n",
       "      <td>Male</td>\n",
       "      <td>Third Party</td>\n",
       "      <td>Others</td>\n",
       "    </tr>\n",
       "    <tr>\n",
       "      <th>...</th>\n",
       "      <td>...</td>\n",
       "      <td>...</td>\n",
       "      <td>...</td>\n",
       "      <td>...</td>\n",
       "      <td>...</td>\n",
       "      <td>...</td>\n",
       "      <td>...</td>\n",
       "      <td>...</td>\n",
       "      <td>...</td>\n",
       "    </tr>\n",
       "    <tr>\n",
       "      <th>845</th>\n",
       "      <td>2017-07-04 00:00:00</td>\n",
       "      <td>Country_01</td>\n",
       "      <td>Local_04</td>\n",
       "      <td>Mining</td>\n",
       "      <td>I</td>\n",
       "      <td>III</td>\n",
       "      <td>Male</td>\n",
       "      <td>Third Party</td>\n",
       "      <td>Others</td>\n",
       "    </tr>\n",
       "    <tr>\n",
       "      <th>846</th>\n",
       "      <td>2017-07-04 00:00:00</td>\n",
       "      <td>Country_01</td>\n",
       "      <td>Local_03</td>\n",
       "      <td>Mining</td>\n",
       "      <td>I</td>\n",
       "      <td>II</td>\n",
       "      <td>Female</td>\n",
       "      <td>Employee</td>\n",
       "      <td>Others</td>\n",
       "    </tr>\n",
       "    <tr>\n",
       "      <th>847</th>\n",
       "      <td>2017-07-05 00:00:00</td>\n",
       "      <td>Country_02</td>\n",
       "      <td>Local_09</td>\n",
       "      <td>Metals</td>\n",
       "      <td>I</td>\n",
       "      <td>II</td>\n",
       "      <td>Male</td>\n",
       "      <td>Employee</td>\n",
       "      <td>Venomous Animals</td>\n",
       "    </tr>\n",
       "    <tr>\n",
       "      <th>848</th>\n",
       "      <td>2017-07-06 00:00:00</td>\n",
       "      <td>Country_02</td>\n",
       "      <td>Local_05</td>\n",
       "      <td>Metals</td>\n",
       "      <td>I</td>\n",
       "      <td>II</td>\n",
       "      <td>Male</td>\n",
       "      <td>Employee</td>\n",
       "      <td>Cut</td>\n",
       "    </tr>\n",
       "    <tr>\n",
       "      <th>849</th>\n",
       "      <td>2017-07-09 00:00:00</td>\n",
       "      <td>Country_01</td>\n",
       "      <td>Local_04</td>\n",
       "      <td>Mining</td>\n",
       "      <td>I</td>\n",
       "      <td>II</td>\n",
       "      <td>Female</td>\n",
       "      <td>Third Party</td>\n",
       "      <td>Fall prevention (same level)</td>\n",
       "    </tr>\n",
       "  </tbody>\n",
       "</table>\n",
       "<p>850 rows × 9 columns</p>\n",
       "</div>"
      ],
      "text/plain": [
       "                    Data   Countries     Local Industry Sector Accident Level  \\\n",
       "0    2016-01-01 00:00:00  Country_01  Local_01          Mining              I   \n",
       "1    2016-01-02 00:00:00  Country_02  Local_02          Mining              I   \n",
       "2    2016-01-06 00:00:00  Country_01  Local_03          Mining              I   \n",
       "3    2016-01-08 00:00:00  Country_01  Local_04          Mining              I   \n",
       "4    2016-01-10 00:00:00  Country_01  Local_04          Mining             IV   \n",
       "..                   ...         ...       ...             ...            ...   \n",
       "845  2017-07-04 00:00:00  Country_01  Local_04          Mining              I   \n",
       "846  2017-07-04 00:00:00  Country_01  Local_03          Mining              I   \n",
       "847  2017-07-05 00:00:00  Country_02  Local_09          Metals              I   \n",
       "848  2017-07-06 00:00:00  Country_02  Local_05          Metals              I   \n",
       "849  2017-07-09 00:00:00  Country_01  Local_04          Mining              I   \n",
       "\n",
       "    Potential Accident Level   Genre Employee or Third Party  \\\n",
       "0                         IV    Male             Third Party   \n",
       "1                         IV    Male                Employee   \n",
       "2                        III    Male    Third Party (Remote)   \n",
       "3                          I    Male             Third Party   \n",
       "4                         IV    Male             Third Party   \n",
       "..                       ...     ...                     ...   \n",
       "845                      III    Male             Third Party   \n",
       "846                       II  Female                Employee   \n",
       "847                       II    Male                Employee   \n",
       "848                       II    Male                Employee   \n",
       "849                       II  Female             Third Party   \n",
       "\n",
       "                    Critical Risk  \n",
       "0                         Pressed  \n",
       "1             Pressurized Systems  \n",
       "2                    Manual Tools  \n",
       "3                          Others  \n",
       "4                          Others  \n",
       "..                            ...  \n",
       "845                        Others  \n",
       "846                        Others  \n",
       "847              Venomous Animals  \n",
       "848                           Cut  \n",
       "849  Fall prevention (same level)  \n",
       "\n",
       "[850 rows x 9 columns]"
      ]
     },
     "execution_count": 25,
     "metadata": {},
     "output_type": "execute_result"
    }
   ],
   "source": [
    "data = pd.concat([df1, df1], ignore_index=True)\n",
    "data"
   ]
  },
  {
   "cell_type": "code",
   "execution_count": 26,
   "id": "b36aaba7",
   "metadata": {},
   "outputs": [
    {
     "data": {
      "text/plain": [
       "Data                        0\n",
       "Countries                   0\n",
       "Local                       0\n",
       "Industry Sector             0\n",
       "Accident Level              0\n",
       "Potential Accident Level    0\n",
       "Genre                       0\n",
       "Employee or Third Party     0\n",
       "Critical Risk               0\n",
       "dtype: int64"
      ]
     },
     "execution_count": 26,
     "metadata": {},
     "output_type": "execute_result"
    }
   ],
   "source": [
    "data.isnull().sum()"
   ]
  },
  {
   "cell_type": "code",
   "execution_count": 27,
   "id": "e54d9423",
   "metadata": {},
   "outputs": [
    {
     "data": {
      "text/plain": [
       "436"
      ]
     },
     "execution_count": 27,
     "metadata": {},
     "output_type": "execute_result"
    }
   ],
   "source": [
    "data.duplicated().sum()"
   ]
  },
  {
   "cell_type": "code",
   "execution_count": 29,
   "id": "28111555",
   "metadata": {},
   "outputs": [],
   "source": [
    "data.drop_duplicates(keep='first',inplace=True)\n"
   ]
  },
  {
   "cell_type": "code",
   "execution_count": 30,
   "id": "80b24369",
   "metadata": {},
   "outputs": [
    {
     "data": {
      "text/plain": [
       "0"
      ]
     },
     "execution_count": 30,
     "metadata": {},
     "output_type": "execute_result"
    }
   ],
   "source": [
    "data.duplicated().sum()\n"
   ]
  },
  {
   "cell_type": "code",
   "execution_count": 31,
   "id": "73e374ec",
   "metadata": {},
   "outputs": [
    {
     "data": {
      "text/plain": [
       "Index(['Data', 'Countries', 'Local', 'Industry Sector', 'Accident Level',\n",
       "       'Potential Accident Level', 'Genre', 'Employee or Third Party',\n",
       "       'Critical Risk'],\n",
       "      dtype='object')"
      ]
     },
     "execution_count": 31,
     "metadata": {},
     "output_type": "execute_result"
    }
   ],
   "source": [
    "data.columns"
   ]
  },
  {
   "cell_type": "markdown",
   "id": "6e4d3c33",
   "metadata": {},
   "source": [
    "# Which country has the most and least number of accidents?"
   ]
  },
  {
   "cell_type": "code",
   "execution_count": 32,
   "id": "4539abe0",
   "metadata": {},
   "outputs": [
    {
     "data": {
      "text/plain": [
       "Country_01    263\n",
       "Country_02    132\n",
       "Country_03     44\n",
       "Name: Countries, dtype: int64"
      ]
     },
     "execution_count": 32,
     "metadata": {},
     "output_type": "execute_result"
    }
   ],
   "source": [
    "country_counts = df['Countries'].value_counts()\n",
    "country_counts"
   ]
  },
  {
   "cell_type": "code",
   "execution_count": 33,
   "id": "aae7a342",
   "metadata": {},
   "outputs": [
    {
     "data": {
      "image/png": "[encoded data removed]",
      "text/plain": [
       "<Figure size 1000x600 with 1 Axes>"
      ]
     },
     "metadata": {},
     "output_type": "display_data"
    }
   ],
   "source": [
    "plt.figure(figsize=(10, 6))\n",
    "country_counts.plot(kind='bar')\n",
    "plt.title(\"Number of Accidents by Country\")\n",
    "plt.xlabel(\"Number of Accidents\")\n",
    "plt.ylabel(\"Country\")\n",
    "plt.xticks(rotation=0)\n",
    "plt.show()"
   ]
  },
  {
   "cell_type": "code",
   "execution_count": 34,
   "id": "18091029",
   "metadata": {},
   "outputs": [
    {
     "name": "stdout",
     "output_type": "stream",
     "text": [
      "263 Country_01\n"
     ]
    }
   ],
   "source": [
    "most_accidents_country = country_counts.idxmax()\n",
    "most_accidents_count = country_counts.max()\n",
    "print(most_accidents_count,most_accidents_country)"
   ]
  },
  {
   "cell_type": "code",
   "execution_count": 35,
   "id": "431e2e4c",
   "metadata": {},
   "outputs": [
    {
     "name": "stdout",
     "output_type": "stream",
     "text": [
      "44 Country_03\n"
     ]
    }
   ],
   "source": [
    "least_accidents_country = country_counts.idxmin()\n",
    "least_accidents_count = country_counts.min()\n",
    "print(least_accidents_count,least_accidents_country)"
   ]
  },
  {
   "cell_type": "markdown",
   "id": "4d8d5460",
   "metadata": {},
   "source": [
    "#  Which industrial sector has the most and least number of accidents?\n"
   ]
  },
  {
   "cell_type": "code",
   "execution_count": 36,
   "id": "75be6f4a",
   "metadata": {},
   "outputs": [
    {
     "data": {
      "text/plain": [
       "Mining    241\n",
       "Metals    148\n",
       "Others     50\n",
       "Name: Industry Sector, dtype: int64"
      ]
     },
     "execution_count": 36,
     "metadata": {},
     "output_type": "execute_result"
    }
   ],
   "source": [
    "sector_counts = df['Industry Sector'].value_counts()\n",
    "sector_counts"
   ]
  },
  {
   "cell_type": "code",
   "execution_count": 37,
   "id": "7ca1819b",
   "metadata": {},
   "outputs": [
    {
     "data": {
      "text/plain": [
       "Mining    241\n",
       "Metals    148\n",
       "Others     50\n",
       "Name: Industry Sector, dtype: int64"
      ]
     },
     "execution_count": 37,
     "metadata": {},
     "output_type": "execute_result"
    }
   ],
   "source": [
    "sector_counts = df['Industry Sector'].value_counts()\n",
    "sector_counts"
   ]
  },
  {
   "cell_type": "code",
   "execution_count": 38,
   "id": "1069be74",
   "metadata": {},
   "outputs": [
    {
     "data": {
      "image/png": "[encoded data removed]",
      "text/plain": [
       "<Figure size 1000x600 with 1 Axes>"
      ]
     },
     "metadata": {},
     "output_type": "display_data"
    }
   ],
   "source": [
    "plt.figure(figsize=(10, 6))\n",
    "sector_counts.plot(kind='bar')\n",
    "plt.title(\"Number of Accidents by Industry Sector\")\n",
    "plt.xlabel(\"Number of Accidents\")\n",
    "plt.ylabel(\"Industry Sector\")\n",
    "plt.xticks(rotation=0)\n",
    "plt.show()"
   ]
  },
  {
   "cell_type": "code",
   "execution_count": 39,
   "id": "2d351b8a",
   "metadata": {},
   "outputs": [
    {
     "name": "stdout",
     "output_type": "stream",
     "text": [
      "Mining 241\n"
     ]
    }
   ],
   "source": [
    "most_accidents_sector = sector_counts.idxmax()\n",
    "most_accidents_sector_count = sector_counts.max()\n",
    "print(most_accidents_sector,most_accidents_sector_count)"
   ]
  },
  {
   "cell_type": "code",
   "execution_count": 40,
   "id": "f6623023",
   "metadata": {},
   "outputs": [
    {
     "name": "stdout",
     "output_type": "stream",
     "text": [
      "Others 50\n"
     ]
    }
   ],
   "source": [
    "least_accidents_sector = sector_counts.idxmin()\n",
    "least_accidents_sector_count = sector_counts.min()\n",
    "print(least_accidents_sector,least_accidents_sector_count)"
   ]
  },
  {
   "cell_type": "markdown",
   "id": "cbb1852b",
   "metadata": {},
   "source": [
    "#  Among employees and third parties, who is most likely to get into an accident?\n"
   ]
  },
  {
   "cell_type": "code",
   "execution_count": 41,
   "id": "c772b996",
   "metadata": {},
   "outputs": [
    {
     "data": {
      "text/plain": [
       "Third Party             189\n",
       "Employee                181\n",
       "Third Party (Remote)     69\n",
       "Name: Employee or Third Party, dtype: int64"
      ]
     },
     "execution_count": 41,
     "metadata": {},
     "output_type": "execute_result"
    }
   ],
   "source": [
    "party_counts = df['Employee or Third Party'].value_counts()\n",
    "party_counts"
   ]
  },
  {
   "cell_type": "code",
   "execution_count": 42,
   "id": "7c76eaa1",
   "metadata": {},
   "outputs": [
    {
     "data": {
      "image/png": "[encoded data removed]",
      "text/plain": [
       "<Figure size 1000x600 with 1 Axes>"
      ]
     },
     "metadata": {},
     "output_type": "display_data"
    }
   ],
   "source": [
    "plt.figure(figsize=(10, 6))\n",
    "party_counts.plot(kind='bar')\n",
    "plt.title(\"Accidents Involving Employees vs. Third Parties\")\n",
    "plt.xlabel(\"Involvement\")\n",
    "plt.ylabel(\"Number of Accidents\")\n",
    "plt.xticks(rotation=0) \n",
    "plt.show()"
   ]
  },
  {
   "cell_type": "code",
   "execution_count": 43,
   "id": "4933b2cb",
   "metadata": {},
   "outputs": [
    {
     "name": "stdout",
     "output_type": "stream",
     "text": [
      "Third Party 189\n"
     ]
    }
   ],
   "source": [
    "most_likely_party = party_counts.idxmax()\n",
    "most_likely_party_count = party_counts.max()\n",
    "print(most_likely_party,most_likely_party_count)"
   ]
  },
  {
   "cell_type": "markdown",
   "id": "937a3bcc",
   "metadata": {},
   "source": [
    "#  Which gender is most likely to get into an accident?\n"
   ]
  },
  {
   "cell_type": "code",
   "execution_count": 44,
   "id": "8ff7af16",
   "metadata": {},
   "outputs": [
    {
     "data": {
      "text/plain": [
       "Male      417\n",
       "Female     22\n",
       "Name: Genre, dtype: int64"
      ]
     },
     "execution_count": 44,
     "metadata": {},
     "output_type": "execute_result"
    }
   ],
   "source": [
    "gender_counts = df['Genre'].value_counts()\n",
    "gender_counts"
   ]
  },
  {
   "cell_type": "code",
   "execution_count": 45,
   "id": "5e5b0d59",
   "metadata": {},
   "outputs": [
    {
     "data": {
      "image/png": "[encoded data removed]",
      "text/plain": [
       "<Figure size 1000x600 with 1 Axes>"
      ]
     },
     "metadata": {},
     "output_type": "display_data"
    }
   ],
   "source": [
    "plt.figure(figsize=(10, 6))\n",
    "gender_counts.plot(kind='bar')\n",
    "plt.title(\"Accidents by Gender\")\n",
    "plt.xlabel(\"Gender\")\n",
    "plt.ylabel(\"Number of Accidents\")\n",
    "plt.xticks(rotation=0)\n",
    "plt.show()"
   ]
  },
  {
   "cell_type": "code",
   "execution_count": 46,
   "id": "b5d5482d",
   "metadata": {},
   "outputs": [
    {
     "name": "stdout",
     "output_type": "stream",
     "text": [
      "Male 417\n"
     ]
    }
   ],
   "source": [
    "most_likely_gender = gender_counts.idxmax()\n",
    "most_likely_gender_count = gender_counts.max()\n",
    "print(most_likely_gender,most_likely_gender_count)"
   ]
  },
  {
   "cell_type": "code",
   "execution_count": 47,
   "id": "a6ff46b0",
   "metadata": {},
   "outputs": [
    {
     "data": {
      "image/png": "[encoded data removed]",
      "text/plain": [
       "<Figure size 640x480 with 1 Axes>"
      ]
     },
     "metadata": {},
     "output_type": "display_data"
    }
   ],
   "source": [
    "plt.pie(gender_counts,autopct='%0.2f%%',labels=['Male','Female'])\n",
    "plt.show()"
   ]
  },
  {
   "cell_type": "code",
   "execution_count": null,
   "id": "7c9b35c8",
   "metadata": {},
   "outputs": [],
   "source": []
  }
 ],
 "metadata": {
  "kernelspec": {
   "display_name": "Python 3 (ipykernel)",
   "language": "python",
   "name": "python3"
  },
  "language_info": {
   "codemirror_mode": {
    "name": "ipython",
    "version": 3
   },
   "file_extension": ".py",
   "mimetype": "text/x-python",
   "name": "python",
   "nbconvert_exporter": "python",
   "pygments_lexer": "ipython3",
   "version": "3.9.13"
  }
 },
 "nbformat": 4,
 "nbformat_minor": 5
}
